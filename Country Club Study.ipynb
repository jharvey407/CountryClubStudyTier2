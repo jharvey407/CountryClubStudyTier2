{
 "cells": [
  {
   "cell_type": "code",
   "execution_count": 1,
   "metadata": {},
   "outputs": [],
   "source": [
    "import sqlite3\n",
    "\n",
    "# Standard read-write connection\n",
    "conn = sqlite3.connect('sqlite_db_pythonsqlite.db')\n",
    "\n",
    "# Create a cursor object\n",
    "curs = conn.cursor()"
   ]
  },
  {
   "cell_type": "code",
   "execution_count": 2,
   "metadata": {},
   "outputs": [
    {
     "data": {
      "text/plain": [
       "[('Bookings',), ('Facilities',), ('Members',)]"
      ]
     },
     "execution_count": 2,
     "metadata": {},
     "output_type": "execute_result"
    }
   ],
   "source": [
    "# List the tables in the database\n",
    "curs.execute(\"Select name FROM sqlite_master WHERE type = 'table'\").fetchall()"
   ]
  },
  {
   "cell_type": "code",
   "execution_count": 3,
   "metadata": {},
   "outputs": [
    {
     "name": "stdout",
     "output_type": "stream",
     "text": [
      "(0, 'bookid', 'int(4)', 1, \"'0'\", 1)\n",
      "(1, 'facid', 'int(1)', 0, 'NULL', 0)\n",
      "(2, 'memid', 'int(2)', 0, 'NULL', 0)\n",
      "(3, 'starttime', 'varchar(19)', 0, 'NULL', 0)\n",
      "(4, 'slots', 'int(2)', 0, 'NULL', 0)\n"
     ]
    }
   ],
   "source": [
    "# Inspecting the columns in a table\n",
    "for row in curs.execute(\"PRAGMA table_info(Bookings)\"):\n",
    "    print(row)"
   ]
  },
  {
   "cell_type": "code",
   "execution_count": 4,
   "metadata": {},
   "outputs": [
    {
     "data": {
      "text/plain": [
       "[(0, 'Tennis Court 1', 5, 25, 10000, 200),\n",
       " (1, 'Tennis Court 2', 5, 25, 8000, 200),\n",
       " (2, 'Badminton Court', 0, 15.5, 4000, 50),\n",
       " (3, 'Table Tennis', 0, 5, 320, 10),\n",
       " (4, 'Massage Room 1', 9.9, 80, 4000, 3000),\n",
       " (5, 'Massage Room 2', 9.9, 80, 4000, 3000),\n",
       " (6, 'Squash Court', 3.5, 17.5, 5000, 80),\n",
       " (7, 'Snooker Table', 0, 5, 450, 15),\n",
       " (8, 'Pool Table', 0, 5, 400, 15)]"
      ]
     },
     "execution_count": 4,
     "metadata": {},
     "output_type": "execute_result"
    }
   ],
   "source": [
    "# Create a test query\n",
    "curs.execute(\"SELECT * FROM Facilities\").fetchall()"
   ]
  },
  {
   "cell_type": "markdown",
   "metadata": {},
   "source": [
    "#### Q10: Produce a list of facilities with a total revenue less than 1000.\n",
    "The output of facility name and total revenue, sorted by revenue. Remember\n",
    "that there's a different cost for guests and members!"
   ]
  },
  {
   "cell_type": "code",
   "execution_count": 18,
   "metadata": {},
   "outputs": [
    {
     "name": "stdout",
     "output_type": "stream",
     "text": [
      "Facilities with Revenue Less Than 1000\n",
      "\n",
      "Facility\tRevenue\n",
      "Table Tennis \t 180\n",
      "Snooker Table \t 240\n",
      "Pool Table \t 270\n"
     ]
    }
   ],
   "source": [
    "fac_rev = curs.execute(\"\"\"SELECT name, revenue FROM\n",
    "\t(SELECT f.name, sum(CASE WHEN b.memid = 0 THEN b.slots * f.guestcost\n",
    "                        \t ELSE b.slots * f.membercost\n",
    "                        END) AS revenue\n",
    "     \t\tFROM Bookings as b\n",
    "     \t\tINNER JOIN Facilities AS f ON b.facid = f.facid\n",
    "     \t\tGROUP BY f.name)\n",
    "\t\t\tAS agg WHERE revenue < 1000\n",
    "ORDER BY revenue;\"\"\").fetchall()\n",
    "\n",
    "print('Facilities with Revenue Less Than 1000\\n')\n",
    "print('Facility\\tRevenue')\n",
    "for fac in fac_rev:\n",
    "    print(fac[0],'\\t', fac[1])"
   ]
  },
  {
   "cell_type": "markdown",
   "metadata": {},
   "source": [
    "#### Q11: Produce a report of members and who recommended them in alphabetic surname,firstname order "
   ]
  },
  {
   "cell_type": "code",
   "execution_count": null,
   "metadata": {},
   "outputs": [],
   "source": []
  }
 ],
 "metadata": {
  "kernelspec": {
   "display_name": "Python 3",
   "language": "python",
   "name": "python3"
  },
  "language_info": {
   "codemirror_mode": {
    "name": "ipython",
    "version": 3
   },
   "file_extension": ".py",
   "mimetype": "text/x-python",
   "name": "python",
   "nbconvert_exporter": "python",
   "pygments_lexer": "ipython3",
   "version": "3.8.5"
  }
 },
 "nbformat": 4,
 "nbformat_minor": 4
}
