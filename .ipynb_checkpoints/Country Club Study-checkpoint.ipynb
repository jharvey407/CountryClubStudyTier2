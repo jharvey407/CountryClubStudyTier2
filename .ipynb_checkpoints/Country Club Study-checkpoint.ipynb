{
 "cells": [
  {
   "cell_type": "code",
   "execution_count": 1,
   "metadata": {},
   "outputs": [],
   "source": [
    "import sqlite3\n",
    "\n",
    "# Standard read-write connection\n",
    "conn = sqlite3.connect('sqlite_db_pythonsqlite.db')\n",
    "\n",
    "# Create a cursor object\n",
    "curs = conn.cursor()"
   ]
  },
  {
   "cell_type": "code",
   "execution_count": 2,
   "metadata": {},
   "outputs": [
    {
     "data": {
      "text/plain": [
       "[('Bookings',), ('Facilities',), ('Members',)]"
      ]
     },
     "execution_count": 2,
     "metadata": {},
     "output_type": "execute_result"
    }
   ],
   "source": [
    "# List the tables in the database\n",
    "curs.execute(\"Select name FROM sqlite_master WHERE type = 'table'\").fetchall()"
   ]
  },
  {
   "cell_type": "code",
   "execution_count": 3,
   "metadata": {},
   "outputs": [
    {
     "name": "stdout",
     "output_type": "stream",
     "text": [
      "(0, 'bookid', 'int(4)', 1, \"'0'\", 1)\n",
      "(1, 'facid', 'int(1)', 0, 'NULL', 0)\n",
      "(2, 'memid', 'int(2)', 0, 'NULL', 0)\n",
      "(3, 'starttime', 'varchar(19)', 0, 'NULL', 0)\n",
      "(4, 'slots', 'int(2)', 0, 'NULL', 0)\n"
     ]
    }
   ],
   "source": [
    "# Inspecting the columns in a table\n",
    "for row in curs.execute(\"PRAGMA table_info(Bookings)\"):\n",
    "    print(row)"
   ]
  },
  {
   "cell_type": "code",
   "execution_count": 4,
   "metadata": {},
   "outputs": [
    {
     "data": {
      "text/plain": [
       "[(0, 'Tennis Court 1', 5, 25, 10000, 200),\n",
       " (1, 'Tennis Court 2', 5, 25, 8000, 200),\n",
       " (2, 'Badminton Court', 0, 15.5, 4000, 50),\n",
       " (3, 'Table Tennis', 0, 5, 320, 10),\n",
       " (4, 'Massage Room 1', 9.9, 80, 4000, 3000),\n",
       " (5, 'Massage Room 2', 9.9, 80, 4000, 3000),\n",
       " (6, 'Squash Court', 3.5, 17.5, 5000, 80),\n",
       " (7, 'Snooker Table', 0, 5, 450, 15),\n",
       " (8, 'Pool Table', 0, 5, 400, 15)]"
      ]
     },
     "execution_count": 4,
     "metadata": {},
     "output_type": "execute_result"
    }
   ],
   "source": [
    "# Create a test query\n",
    "curs.execute(\"SELECT * FROM Facilities\").fetchall()"
   ]
  },
  {
   "cell_type": "markdown",
   "metadata": {},
   "source": [
    "#### Q10: Produce a list of facilities with a total revenue less than 1000.\n",
    "The output of facility name and total revenue, sorted by revenue. Remember\n",
    "that there's a different cost for guests and members!"
   ]
  },
  {
   "cell_type": "code",
   "execution_count": 5,
   "metadata": {},
   "outputs": [
    {
     "name": "stdout",
     "output_type": "stream",
     "text": [
      "Facilities with Revenue Less Than 1000\n",
      "\n",
      "Facility\tRevenue\n",
      "Table Tennis \t 180\n",
      "Snooker Table \t 240\n",
      "Pool Table \t 270\n"
     ]
    }
   ],
   "source": [
    "fac_rev = curs.execute(\"\"\"\n",
    "SELECT name, revenue FROM\n",
    "\t(SELECT f.name, sum(CASE WHEN b.memid = 0 THEN b.slots * f.guestcost\n",
    "                        \t ELSE b.slots * f.membercost\n",
    "                        END) AS revenue\n",
    "     \t\tFROM Bookings as b\n",
    "     \t\tINNER JOIN Facilities AS f ON b.facid = f.facid\n",
    "     \t\tGROUP BY f.name)\n",
    "\t\t\tAS agg WHERE revenue < 1000\n",
    "ORDER BY revenue;\n",
    "\"\"\").fetchall()\n",
    "\n",
    "print('Facilities with Revenue Less Than 1000\\n')\n",
    "print('Facility\\tRevenue')\n",
    "for fac in fac_rev:\n",
    "    print(fac[0],'\\t', fac[1])"
   ]
  },
  {
   "cell_type": "markdown",
   "metadata": {},
   "source": [
    "#### Q11: Produce a report of members and who recommended them in alphabetic surname,firstname order "
   ]
  },
  {
   "cell_type": "code",
   "execution_count": 6,
   "metadata": {},
   "outputs": [
    {
     "name": "stdout",
     "output_type": "stream",
     "text": [
      "Members and the Members Who Recommended Them\n",
      "\n",
      "Member \t\t\t\t Recommended By\n",
      "Bader, Florence          \t Ponder Stibbons\n",
      "Baker, Anne              \t Ponder Stibbons\n",
      "Baker, Timothy           \t Jemima Farrell\n",
      "Boothe, Tim              \t Tim Rownam\n",
      "Butters, Gerald          \t Darren Smith\n",
      "Coplin, Joan             \t Timothy Baker\n",
      "Crumpet, Erica           \t Tracy Smith\n",
      "Dare, Nancy              \t Janice Joplette\n",
      "Genting, Matthew         \t Gerald Butters\n",
      "Hunt, John               \t Millicent Purview\n",
      "Jones, David             \t Janice Joplette\n",
      "Jones, Douglas           \t David Jones\n",
      "Joplette, Janice         \t Darren Smith\n",
      "Mackenzie, Anna          \t Darren Smith\n",
      "Owen, Charles            \t Darren Smith\n",
      "Pinker, David            \t Jemima Farrell\n",
      "Purview, Millicent       \t Tracy Smith\n",
      "Rumney, Henrietta        \t Matthew Genting\n",
      "Sarwin, Ramnaresh        \t Florence Bader\n",
      "Smith, Jack              \t Darren Smith\n",
      "Stibbons, Ponder         \t Burton Tracy\n",
      "Worthington-Smyth, Henry \t Tracy Smith\n"
     ]
    }
   ],
   "source": [
    "rec_by = curs.execute(\"\"\"\n",
    "SELECT a.surname||', '||a.firstname AS Member, b.firstname||' '||b.surname AS 'Rec By'\n",
    "FROM Members AS a\n",
    "JOIN Members AS b\n",
    "ON (a.recommendedby = b.memid AND b.memid != 0 AND a.recommendedby IS NOT NULL)\n",
    "ORDER BY a.surname\n",
    "\"\"\").fetchall()\n",
    "\n",
    "print('Members and the Members Who Recommended Them\\n')\n",
    "print('Member \\t\\t\\t\\t Recommended By')\n",
    "for mem in rec_by:\n",
    "       print(mem[0].ljust(24), '\\t', mem[1])\n",
    "    "
   ]
  },
  {
   "cell_type": "markdown",
   "metadata": {},
   "source": [
    "#### Q12: Find the facilities with their usage by member, but not guests"
   ]
  },
  {
   "cell_type": "code",
   "execution_count": 10,
   "metadata": {},
   "outputs": [
    {
     "name": "stdout",
     "output_type": "stream",
     "text": [
      "Facilities and Their Usage by Member\n",
      "\n",
      "Facility                  Member                    Times Used\n",
      "Badminton Court           Florence Bader            9\n",
      "Badminton Court           Timothy Baker             17\n",
      "Badminton Court           Tim Boothe                12\n",
      "Badminton Court           Gerald Butters            20\n",
      "Badminton Court           Erica Crumpet             2\n",
      "Badminton Court           Nancy Dare                10\n",
      "Badminton Court           Jemima Farrell            7\n",
      "Badminton Court           John Hunt                 2\n",
      "Badminton Court           David Jones               10\n",
      "Badminton Court           Anna Mackenzie            30\n",
      "Badminton Court           Charles Owen              6\n",
      "Badminton Court           David Pinker              7\n",
      "Badminton Court           Millicent Purview         2\n",
      "Badminton Court           Tim Rownam                4\n",
      "Badminton Court           Ramnaresh Sarwin          7\n",
      "Badminton Court           Darren Smith              176\n",
      "Badminton Court           Ponder Stibbons           16\n",
      "Badminton Court           Burton Tracy              2\n",
      "Badminton Court           Hyacinth Tupperware       1\n",
      "Badminton Court           Henry Worthington-Smyth   4\n",
      "Massage Room 1            Timothy Baker             27\n",
      "Massage Room 1            Tim Boothe                36\n",
      "Massage Room 1            Gerald Butters            32\n",
      "Massage Room 1            Joan Coplin               1\n",
      "Massage Room 1            Erica Crumpet             2\n",
      "Massage Room 1            Nancy Dare                19\n",
      "Massage Room 1            Jemima Farrell            29\n",
      "Massage Room 1            Matthew Genting           25\n",
      "Massage Room 1            John Hunt                 3\n",
      "Massage Room 1            David Jones               19\n",
      "Massage Room 1            Janice Joplette           12\n",
      "Massage Room 1            Anna Mackenzie            1\n",
      "Massage Room 1            Charles Owen              11\n",
      "Massage Room 1            David Pinker              3\n",
      "Massage Room 1            Tim Rownam                80\n",
      "Massage Room 1            Ramnaresh Sarwin          8\n",
      "Massage Room 1            Darren Smith              61\n",
      "Massage Room 1            Ponder Stibbons           19\n",
      "Massage Room 1            Burton Tracy              31\n",
      "Massage Room 1            Hyacinth Tupperware       1\n",
      "Massage Room 1            Henry Worthington-Smyth   1\n",
      "Massage Room 2            Florence Bader            2\n",
      "Massage Room 2            Anne Baker                2\n",
      "Massage Room 2            Gerald Butters            1\n",
      "Massage Room 2            Joan Coplin               2\n",
      "Massage Room 2            Nancy Dare                5\n",
      "Massage Room 2            Matthew Genting           1\n",
      "Massage Room 2            David Jones               4\n",
      "Massage Room 2            Janice Joplette           2\n",
      "Massage Room 2            Charles Owen              2\n",
      "Massage Room 2            Tim Rownam                2\n",
      "Massage Room 2            Ramnaresh Sarwin          3\n",
      "Massage Room 2            Jack Smith                1\n",
      "Pool Table                Florence Bader            23\n",
      "Pool Table                Anne Baker                97\n",
      "Pool Table                Tim Boothe                25\n",
      "Pool Table                Gerald Butters            6\n",
      "Pool Table                Joan Coplin               11\n",
      "Pool Table                Nancy Dare                19\n",
      "Pool Table                David Farrell             26\n",
      "Pool Table                Matthew Genting           18\n",
      "Pool Table                David Jones               10\n",
      "Pool Table                Janice Joplette           27\n",
      "Pool Table                Anna Mackenzie            70\n",
      "Pool Table                Charles Owen              1\n",
      "Pool Table                David Pinker              9\n",
      "Pool Table                Millicent Purview         5\n",
      "Pool Table                Tim Rownam                241\n",
      "Pool Table                Henrietta Rumney          3\n",
      "Pool Table                Ramnaresh Sarwin          13\n",
      "Pool Table                Darren Smith              96\n",
      "Pool Table                Ponder Stibbons           12\n",
      "Pool Table                Burton Tracy              30\n",
      "Pool Table                Hyacinth Tupperware       8\n",
      "Pool Table                Henry Worthington-Smyth   33\n",
      "Snooker Table             Florence Bader            33\n",
      "Snooker Table             Tim Boothe                43\n",
      "Snooker Table             Gerald Butters            34\n",
      "Snooker Table             Joan Coplin               10\n",
      "Snooker Table             Nancy Dare                23\n",
      "Snooker Table             Jemima Farrell            22\n",
      "Snooker Table             Matthew Genting           1\n",
      "Snooker Table             David Jones               2\n",
      "Snooker Table             Janice Joplette           68\n",
      "Snooker Table             Anna Mackenzie            7\n",
      "Snooker Table             Charles Owen              22\n",
      "Snooker Table             David Pinker              16\n",
      "Snooker Table             Millicent Purview         1\n",
      "Snooker Table             Henrietta Rumney          14\n",
      "Snooker Table             Ramnaresh Sarwin          18\n",
      "Snooker Table             Darren Smith              62\n",
      "Snooker Table             Ponder Stibbons           20\n",
      "Snooker Table             Burton Tracy              20\n",
      "Snooker Table             Hyacinth Tupperware       5\n",
      "Squash Court              Florence Bader            2\n",
      "Squash Court              Anne Baker                54\n",
      "Squash Court              Tim Boothe                12\n",
      "Squash Court              Gerald Butters            9\n",
      "Squash Court              Joan Coplin               1\n",
      "Squash Court              Jemima Farrell            9\n",
      "Squash Court              John Hunt                 1\n",
      "Squash Court              David Jones               9\n",
      "Squash Court              Janice Joplette           14\n",
      "Squash Court              Anna Mackenzie            2\n",
      "Squash Court              Charles Owen              7\n",
      "Squash Court              David Pinker              3\n",
      "Squash Court              Millicent Purview         1\n",
      "Squash Court              Henrietta Rumney          2\n",
      "Squash Court              Ramnaresh Sarwin          2\n",
      "Squash Court              Darren Smith              29\n",
      "Squash Court              Ponder Stibbons           2\n",
      "Squash Court              Burton Tracy              35\n",
      "Squash Court              Hyacinth Tupperware       1\n",
      "Table Tennis              Florence Bader            42\n",
      "Table Tennis              Anne Baker                25\n",
      "Table Tennis              Tim Boothe                4\n",
      "Table Tennis              Gerald Butters            1\n",
      "Table Tennis              Joan Coplin               21\n",
      "Table Tennis              Erica Crumpet             2\n",
      "Table Tennis              Nancy Dare                5\n",
      "Table Tennis              Jemima Farrell            12\n",
      "Table Tennis              Matthew Genting           26\n",
      "Table Tennis              John Hunt                 1\n",
      "Table Tennis              David Jones               11\n",
      "Table Tennis              Janice Joplette           9\n",
      "Table Tennis              Anna Mackenzie            16\n",
      "Table Tennis              Charles Owen              24\n",
      "Table Tennis              David Pinker              17\n",
      "Table Tennis              Millicent Purview         6\n",
      "Table Tennis              Tim Rownam                69\n",
      "Table Tennis              Ramnaresh Sarwin          3\n",
      "Table Tennis              Darren Smith              61\n",
      "Table Tennis              Ponder Stibbons           3\n",
      "Table Tennis              Burton Tracy              24\n",
      "Table Tennis              Henry Worthington-Smyth   3\n",
      "Tennis Court 1            Florence Bader            1\n",
      "Tennis Court 1            Anne Baker                20\n",
      "Tennis Court 1            Tim Boothe                4\n",
      "Tennis Court 1            Gerald Butters            57\n",
      "Tennis Court 1            Joan Coplin               7\n",
      "Tennis Court 1            Erica Crumpet             1\n",
      "Tennis Court 1            Nancy Dare                25\n",
      "Tennis Court 1            Jemima Farrell            7\n",
      "Tennis Court 1            Matthew Genting           1\n",
      "Tennis Court 1            John Hunt                 4\n",
      "Tennis Court 1            David Jones               34\n",
      "Tennis Court 1            Janice Joplette           19\n",
      "Tennis Court 1            Charles Owen              17\n",
      "Tennis Court 1            David Pinker              16\n",
      "Tennis Court 1            Tim Rownam                6\n",
      "Tennis Court 1            Ramnaresh Sarwin          5\n",
      "Tennis Court 1            Tracy Smith               52\n",
      "Tennis Court 1            Ponder Stibbons           1\n",
      "Tennis Court 1            Burton Tracy              31\n",
      "Tennis Court 2            Florence Bader            8\n",
      "Tennis Court 2            Anne Baker                42\n",
      "Tennis Court 2            Tim Boothe                52\n",
      "Tennis Court 2            Gerald Butters            3\n",
      "Tennis Court 2            Nancy Dare                11\n",
      "Tennis Court 2            Jemima Farrell            2\n",
      "Tennis Court 2            John Hunt                 4\n",
      "Tennis Court 2            David Jones               30\n",
      "Tennis Court 2            Janice Joplette           8\n",
      "Tennis Court 2            Charles Owen              41\n",
      "Tennis Court 2            Millicent Purview         1\n",
      "Tennis Court 2            Tim Rownam                6\n",
      "Tennis Court 2            Henrietta Rumney          1\n",
      "Tennis Court 2            Ramnaresh Sarwin          11\n",
      "Tennis Court 2            Darren Smith              22\n",
      "Tennis Court 2            Ponder Stibbons           31\n",
      "Tennis Court 2            Burton Tracy              3\n"
     ]
    }
   ],
   "source": [
    "fac_used = curs.execute(\"\"\"\n",
    "SELECT f.name AS Name, m.firstname||' '||m.surname AS Member, count(f.name) AS Used\n",
    "FROM Facilities AS f\n",
    "JOIN Bookings AS b ON b.facid = f.facid\n",
    "JOIN Members AS m ON b.memid = m.memid\n",
    "WHERE b.memid != 0\n",
    "GROUP BY m.surname, f.name\n",
    "ORDER BY f.name, m.surname;\n",
    "\"\"\").fetchall()\n",
    "\n",
    "print('Facilities and Their Usage by Member\\n')\n",
    "print('Facility'.ljust(25), 'Member'.ljust(25), 'Times Used')\n",
    "\n",
    "for fac in fac_used:\n",
    "    print(fac[0].ljust(25), fac[1].ljust(25), fac[2])\n"
   ]
  },
  {
   "cell_type": "markdown",
   "metadata": {},
   "source": [
    "#### Q13: Find the facilities usage by month, but not guests"
   ]
  },
  {
   "cell_type": "code",
   "execution_count": 8,
   "metadata": {},
   "outputs": [
    {
     "name": "stdout",
     "output_type": "stream",
     "text": [
      "Facility Usage by Month\n",
      "\n",
      "Facility             Month Times Used\n",
      "Badminton Court      07    56\n",
      "Badminton Court      08    146\n",
      "Badminton Court      09    181\n",
      "Massage Room 1       07    123\n",
      "Massage Room 1       08    224\n",
      "Massage Room 1       09    282\n",
      "Massage Room 2       07    12\n",
      "Massage Room 2       08    40\n",
      "Massage Room 2       09    59\n",
      "Pool Table           07    110\n",
      "Pool Table           08    291\n",
      "Pool Table           09    435\n",
      "Snooker Table        07    75\n",
      "Snooker Table        08    159\n",
      "Snooker Table        09    210\n",
      "Squash Court         07    75\n",
      "Squash Court         08    170\n",
      "Squash Court         09    195\n",
      "Table Tennis         07    51\n",
      "Table Tennis         08    147\n",
      "Table Tennis         09    205\n",
      "Tennis Court 1       07    88\n",
      "Tennis Court 1       08    146\n",
      "Tennis Court 1       09    174\n",
      "Tennis Court 2       07    68\n",
      "Tennis Court 2       08    149\n",
      "Tennis Court 2       09    172\n"
     ]
    }
   ],
   "source": [
    "fac_month = curs.execute(\"\"\"\n",
    "SELECT f.name as Name, strftime('%m', b.starttime) as Month, COUNT(f.name) AS Used\n",
    "FROM Bookings AS b\n",
    "JOIN Facilities AS f ON b.facid = f.facid\n",
    "GROUP BY f.name, strftime('%m', b.starttime);\n",
    "\"\"\").fetchall()\n",
    "\n",
    "print('Facility Usage by Month\\n')\n",
    "print('Facility'.ljust(20), 'Month'.ljust(5), 'Times Used')\n",
    "\n",
    "for i in range(len(fac_month)):\n",
    "    print(fac_month[i][0].ljust(20), fac_month[i][1].ljust(5), fac_month[i][2])\n"
   ]
  }
 ],
 "metadata": {
  "kernelspec": {
   "display_name": "Python 3",
   "language": "python",
   "name": "python3"
  },
  "language_info": {
   "codemirror_mode": {
    "name": "ipython",
    "version": 3
   },
   "file_extension": ".py",
   "mimetype": "text/x-python",
   "name": "python",
   "nbconvert_exporter": "python",
   "pygments_lexer": "ipython3",
   "version": "3.8.5"
  }
 },
 "nbformat": 4,
 "nbformat_minor": 4
}
